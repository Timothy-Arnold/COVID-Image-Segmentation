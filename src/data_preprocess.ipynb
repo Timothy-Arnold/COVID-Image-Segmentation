{
 "cells": [
  {
   "cell_type": "code",
   "execution_count": 2,
   "metadata": {},
   "outputs": [],
   "source": [
    "import numpy as np\n",
    "import pandas as pd\n",
    "from PIL import Image\n",
    "from tqdm import tqdm"
   ]
  },
  {
   "cell_type": "code",
   "execution_count": 3,
   "metadata": {},
   "outputs": [],
   "source": [
    "scan_1 = Image.open(\"C:/Users/timcy/Documents/Code/Personal/U-Net/data/scans/bjorke_1.png\")\n",
    "# C:\\Users\\timcy\\Documents\\Code\\Personal\\U-Net\\data\\scans\\bjorke_1.png"
   ]
  },
  {
   "cell_type": "code",
   "execution_count": 4,
   "metadata": {},
   "outputs": [
    {
     "data": {
      "text/plain": [
       "(512, 512)"
      ]
     },
     "execution_count": 4,
     "metadata": {},
     "output_type": "execute_result"
    }
   ],
   "source": [
    "scan_1.size"
   ]
  },
  {
   "cell_type": "code",
   "execution_count": 5,
   "metadata": {},
   "outputs": [
    {
     "name": "stderr",
     "output_type": "stream",
     "text": [
      "  0%|          | 0/2729 [00:00<?, ?it/s]"
     ]
    },
    {
     "name": "stderr",
     "output_type": "stream",
     "text": [
      "100%|██████████| 2729/2729 [00:00<00:00, 272913.27it/s]\n"
     ]
    }
   ],
   "source": [
    "import os\n",
    "\n",
    "# Directory containing the scans\n",
    "scans_dir = \"C:/Users/timcy/Documents/Code/Personal/U-Net/data/scans/\"\n",
    "masks_dir = \"C:/Users/timcy/Documents/Code/Personal/U-Net/data/masks/\"\n",
    "\n",
    "# List to store the paths of all png files\n",
    "scans = []\n",
    "masks = []\n",
    "\n",
    "# Iterate over all files in the directory\n",
    "for filename in tqdm(os.listdir(scans_dir)):\n",
    "    # if filename.endswith(\".png\"):\n",
    "    # Construct the full path and add it to the list\n",
    "    scans.append(os.path.join(scans_dir, filename))\n",
    "    masks.append(os.path.join(masks_dir, filename))"
   ]
  },
  {
   "cell_type": "code",
   "execution_count": 6,
   "metadata": {},
   "outputs": [
    {
     "name": "stdout",
     "output_type": "stream",
     "text": [
      "2729\n",
      "2729\n"
     ]
    }
   ],
   "source": [
    "print(len(scans))\n",
    "print(len(masks))"
   ]
  },
  {
   "cell_type": "code",
   "execution_count": 7,
   "metadata": {},
   "outputs": [
    {
     "data": {
      "text/plain": [
       "6.217559814453125"
      ]
     },
     "execution_count": 7,
     "metadata": {},
     "output_type": "execute_result"
    }
   ],
   "source": [
    "np.mean(np.array(Image.open(masks[10])))"
   ]
  },
  {
   "cell_type": "code",
   "execution_count": 8,
   "metadata": {},
   "outputs": [
    {
     "name": "stderr",
     "output_type": "stream",
     "text": [
      "100%|██████████| 2729/2729 [00:07<00:00, 350.38it/s]\n"
     ]
    }
   ],
   "source": [
    "mask_coverages = []\n",
    "zero_masks = []\n",
    "\n",
    "for mask in tqdm(masks):\n",
    "    mask_coverage = np.mean(np.array(Image.open(mask)))\n",
    "    mask_coverages.append(mask_coverage)\n",
    "    if mask_coverage == 0:\n",
    "        zero_masks.append(mask)"
   ]
  },
  {
   "cell_type": "code",
   "execution_count": 9,
   "metadata": {},
   "outputs": [
    {
     "data": {
      "image/png": "[encoded data removed]",
      "text/plain": [
       "<Figure size 640x480 with 1 Axes>"
      ]
     },
     "metadata": {},
     "output_type": "display_data"
    }
   ],
   "source": [
    "import matplotlib.pyplot as plt\n",
    "\n",
    "plt.hist(mask_coverages, bins=100)\n",
    "plt.title('Histogram of Mask Coverages')\n",
    "plt.xlabel('Mask Coverage')\n",
    "plt.ylabel('Frequency')\n",
    "plt.show()"
   ]
  },
  {
   "cell_type": "code",
   "execution_count": 10,
   "metadata": {},
   "outputs": [
    {
     "name": "stdout",
     "output_type": "stream",
     "text": [
      "2729\n",
      "1\n"
     ]
    }
   ],
   "source": [
    "print(len(mask_coverages))\n",
    "print(len(zero_masks))"
   ]
  },
  {
   "cell_type": "code",
   "execution_count": null,
   "metadata": {},
   "outputs": [],
   "source": []
  }
 ],
 "metadata": {
  "kernelspec": {
   "display_name": "ml",
   "language": "python",
   "name": "python3"
  },
  "language_info": {
   "codemirror_mode": {
    "name": "ipython",
    "version": 3
   },
   "file_extension": ".py",
   "mimetype": "text/x-python",
   "name": "python",
   "nbconvert_exporter": "python",
   "pygments_lexer": "ipython3",
   "version": "3.11.10"
  }
 },
 "nbformat": 4,
 "nbformat_minor": 2
}
